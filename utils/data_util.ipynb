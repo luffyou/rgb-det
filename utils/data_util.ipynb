{
 "cells": [
  {
   "cell_type": "code",
   "execution_count": 4,
   "metadata": {},
   "outputs": [
    {
     "name": "stdout",
     "output_type": "stream",
     "text": [
      "(1, -0.19359877559829886)\n"
     ]
    }
   ],
   "source": [
    "import numpy as np\n",
    "\n",
    "NUM_HEADING_BIN = 12\n",
    "\n",
    "def angle2class(angle, num_class=NUM_HEADING_BIN):\n",
    "    ''' Convert continuous angle to discrete class and residual.\n",
    "    Input:\n",
    "        angle: rad scalar, from 0-2pi (or -pi~pi), class center at\n",
    "            0, 1*(2pi/N), 2*(2pi/N) ...  (N-1)*(2pi/N)\n",
    "        num_class: int scalar, number of classes N\n",
    "    Output:\n",
    "        class_id, int, among 0,1,...,N-1\n",
    "        residual_angle: float, a number such that\n",
    "            class*(2pi/N) + residual_angle = angle\n",
    "    '''\n",
    "    angle = angle%(2*np.pi) # [-pi, pi] to [0,2pi]\n",
    "    assert(angle>=0 and angle<=2*np.pi)\n",
    "    angle_per_class = 2*np.pi/float(num_class)\n",
    "    shifted_angle = (angle+angle_per_class/2)%(2*np.pi) # 更换基准，以bin中心为基准，变成新基准下的角度\n",
    "    class_id = int(shifted_angle/angle_per_class) \n",
    "    residual_angle = shifted_angle - (class_id * angle_per_class + angle_per_class/2) # 新基准下的角度-基准中心\n",
    "    return class_id, residual_angle\n",
    "\n",
    "def class2angle(pred_cls, residual, num_class=NUM_HEADING_BIN, to_label_format=True):\n",
    "    ''' Inverse function to angle2class.\n",
    "    If to_label_format, adjust angle to the range as in labels.\n",
    "    '''\n",
    "    angle_per_class = 2*np.pi/float(num_class)\n",
    "    angle_center = pred_cls * angle_per_class\n",
    "    angle = angle_center + residual\n",
    "    if to_label_format and angle>np.pi:\n",
    "        angle = angle - 2*np.pi\n",
    "    return angle\n",
    "\n",
    "\n",
    "if __name__ == '__main__':\n",
    "    print(angle2class(0.33))"
   ]
  },
  {
   "cell_type": "code",
   "execution_count": null,
   "metadata": {},
   "outputs": [],
   "source": []
  }
 ],
 "metadata": {
  "kernelspec": {
   "display_name": "Python 3",
   "language": "python",
   "name": "python3"
  },
  "language_info": {
   "codemirror_mode": {
    "name": "ipython",
    "version": 3
   },
   "file_extension": ".py",
   "mimetype": "text/x-python",
   "name": "python",
   "nbconvert_exporter": "python",
   "pygments_lexer": "ipython3",
   "version": "3.6.6"
  }
 },
 "nbformat": 4,
 "nbformat_minor": 2
}
